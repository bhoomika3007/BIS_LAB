{
  "nbformat": 4,
  "nbformat_minor": 0,
  "metadata": {
    "colab": {
      "provenance": []
    },
    "kernelspec": {
      "name": "python3",
      "display_name": "Python 3"
    },
    "language_info": {
      "name": "python"
    }
  },
  "cells": [
    {
      "cell_type": "code",
      "execution_count": 1,
      "metadata": {
        "colab": {
          "base_uri": "https://localhost:8080/"
        },
        "id": "cALEU9M_iWSl",
        "outputId": "296f30b1-faff-4806-f973-b51150d76d52"
      },
      "outputs": [
        {
          "output_type": "stream",
          "name": "stdout",
          "text": [
            "Initial Population (Binary): ['01100', '11001', '00101', '10011']\n",
            "Decimal Values: [12, 25, 5, 19]\n",
            "Fitness Scores: [144, 625, 25, 361]\n",
            "Average Fitness: 288.75\n",
            "Actual Count (rounded): [0, 2, 0, 1]\n",
            "Mating pool has fewer members (3). Replicating population.\n",
            "Mating Pool (limited to 4 members): ['11001', '11001', '10011', '01100']\n",
            "Parents: 11001, 01100 -> Children: 11000, 01101\n",
            "Parents: 11001, 10011 -> Children: 11011, 10001\n",
            "New Population (Binary): ['11000', '01101', '11011', '10001']\n",
            "New Decimal Values: [24, 13, 27, 17]\n",
            "New Fitness Scores: [576, 169, 729, 289]\n"
          ]
        }
      ],
      "source": [
        "import numpy as np\n",
        "\n",
        "population = ['01100', '11001', '00101', '10011']\n",
        "dec_values = [int(ind, 2) for ind in population]\n",
        "print(f\"Initial Population (Binary): {population}\")\n",
        "print(f\"Decimal Values: {dec_values}\")\n",
        "\n",
        "\n",
        "def fitness(x):\n",
        "    return x**2\n",
        "\n",
        "fitness_scores = [fitness(x) for x in dec_values]\n",
        "print(f\"Fitness Scores: {fitness_scores}\")\n",
        "\n",
        "\n",
        "avg_fitness = np.mean(fitness_scores)\n",
        "print(f\"Average Fitness: {avg_fitness}\")\n",
        "\n",
        "\n",
        "actual_count = [round(fx / avg_fitness) for fx in fitness_scores]\n",
        "print(f\"Actual Count (rounded): {actual_count}\")\n",
        "\n",
        "\n",
        "mating_pool = []\n",
        "for i in range(len(population)):\n",
        "    mating_pool.extend([population[i]] * actual_count[i])\n",
        "\n",
        "if len(mating_pool) < 4:\n",
        "    print(f\"Mating pool has fewer members ({len(mating_pool)}). Replicating population.\")\n",
        "    while len(mating_pool) < 4:\n",
        "        mating_pool.extend(population)\n",
        "\n",
        "mating_pool = mating_pool[:4]\n",
        "print(f\"Mating Pool (limited to 4 members): {mating_pool}\")\n",
        "\n",
        "\n",
        "def crossover(parent1, parent2, crossover_point):\n",
        "    return parent1[:crossover_point] + parent2[crossover_point:], parent2[:crossover_point] + parent1[crossover_point:]\n",
        "\n",
        "parent1, parent2 = mating_pool[0], mating_pool[3]\n",
        "child1, child2 = crossover(parent1, parent2, 4)\n",
        "print(f\"Parents: {parent1}, {parent2} -> Children: {child1}, {child2}\")\n",
        "\n",
        "parent3, parent4 = mating_pool[1], mating_pool[2]\n",
        "child3, child4 = crossover(parent3, parent4, 2)\n",
        "print(f\"Parents: {parent3}, {parent4} -> Children: {child3}, {child4}\")\n",
        "\n",
        "\n",
        "new_population = [child1, child2, child3, child4]\n",
        "new_dec_values = [int(ind, 2) for ind in new_population]\n",
        "new_fitness_scores = [fitness(x) for x in new_dec_values]\n",
        "\n",
        "print(f\"New Population (Binary): {new_population}\")\n",
        "print(f\"New Decimal Values: {new_dec_values}\")\n",
        "print(f\"New Fitness Scores: {new_fitness_scores}\")\n",
        "\n"
      ]
    }
  ]
}