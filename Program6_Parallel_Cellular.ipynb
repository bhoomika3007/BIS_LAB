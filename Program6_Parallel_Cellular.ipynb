{
  "nbformat": 4,
  "nbformat_minor": 0,
  "metadata": {
    "colab": {
      "provenance": []
    },
    "kernelspec": {
      "name": "python3",
      "display_name": "Python 3"
    },
    "language_info": {
      "name": "python"
    }
  },
  "cells": [
    {
      "cell_type": "code",
      "execution_count": 7,
      "metadata": {
        "colab": {
          "base_uri": "https://localhost:8080/"
        },
        "id": "cALEU9M_iWSl",
        "outputId": "9fc9ad14-d4ac-48ee-fce5-5004b4090e26"
      },
      "outputs": [
        {
          "output_type": "stream",
          "name": "stdout",
          "text": [
            "Initial Grid:\n",
            "[[0 0 0 1 0 1 1 0 0 0]\n",
            " [0 1 1 1 0 0 1 1 1 0]\n",
            " [1 1 1 0 1 1 1 0 1 0]\n",
            " [1 0 1 1 0 1 0 0 0 0]\n",
            " [0 0 1 0 1 1 1 0 0 1]\n",
            " [1 1 0 0 1 0 0 1 0 1]\n",
            " [1 1 1 0 1 1 0 0 1 0]\n",
            " [0 0 0 0 1 0 0 0 0 0]\n",
            " [0 1 0 1 1 1 0 0 0 1]\n",
            " [1 1 1 1 1 1 0 0 1 0]]\n",
            "\n",
            "Final Grid after Processing:\n",
            "[[0 0 0 0 0 1 1 1 0 0]\n",
            " [0 0 0 0 1 0 0 0 0 0]\n",
            " [0 0 0 0 0 1 1 1 1 0]\n",
            " [0 0 0 0 0 1 0 0 0 1]\n",
            " [0 0 0 0 0 0 0 0 1 1]\n",
            " [0 1 0 0 1 1 0 0 0 1]\n",
            " [0 1 0 0 0 1 0 1 1 0]\n",
            " [0 0 0 0 0 0 0 1 1 0]\n",
            " [0 0 0 0 0 0 0 0 0 0]\n",
            " [0 0 0 0 0 0 0 0 0 0]]\n",
            "\n",
            "Total Live Cells: 22\n"
          ]
        }
      ],
      "source": [
        "import numpy as np\n",
        "from concurrent.futures import ThreadPoolExecutor, as_completed\n",
        "\n",
        "# Define grid size and cells\n",
        "GRID_SIZE = 10  # Example: 10x10 grid\n",
        "ITERATIONS = 5  # Number of processing iterations\n",
        "\n",
        "# Initialize a grid with random values (problem domain)\n",
        "grid = np.random.randint(0, 2, (GRID_SIZE, GRID_SIZE))\n",
        "\n",
        "# Function to process a single cell\n",
        "def process_cell(i, j, grid):\n",
        "    # Example computation: Count live neighbors (Game of Life logic)\n",
        "    neighbors = grid[max(0, i-1):i+2, max(0, j-1):j+2]\n",
        "    total = np.sum(neighbors) - grid[i, j]\n",
        "    if grid[i, j] == 1:  # Live cell\n",
        "        return 1 if total in [2, 3] else 0\n",
        "    else:  # Dead cell\n",
        "        return 1 if total == 3 else 0\n",
        "\n",
        "# Function to process grid in parallel\n",
        "def parallel_cell_processing(grid, iterations):\n",
        "    for _ in range(iterations):\n",
        "        new_grid = grid.copy()\n",
        "        with ThreadPoolExecutor() as executor:\n",
        "            futures = {}\n",
        "            # Assign cells to processes (threads)\n",
        "            for i in range(grid.shape[0]):\n",
        "                for j in range(grid.shape[1]):\n",
        "                    futures[executor.submit(process_cell, i, j, grid)] = (i, j)\n",
        "\n",
        "            # Handle inter-cell communication and synchronization\n",
        "            for future in as_completed(futures):\n",
        "                i, j = futures[future]\n",
        "                new_grid[i, j] = future.result()\n",
        "\n",
        "        grid = new_grid  # Synchronize: Update grid after all processes complete\n",
        "    return grid\n",
        "\n",
        "# Step 6: Aggregate results (final solution)\n",
        "def aggregate_results(grid):\n",
        "    # Example: Count total number of live cells\n",
        "    return np.sum(grid)\n",
        "\n",
        "# Main function\n",
        "if __name__ == \"__main__\":\n",
        "    print(\"Initial Grid:\")\n",
        "    print(grid)\n",
        "\n",
        "    # Step 3-5: Process cells in parallel\n",
        "    final_grid = parallel_cell_processing(grid, ITERATIONS)\n",
        "\n",
        "    print(\"\\nFinal Grid after Processing:\")\n",
        "    print(final_grid)\n",
        "\n",
        "    # Step 6: Post-process results\n",
        "    total_live_cells = aggregate_results(final_grid)\n",
        "    print(f\"\\nTotal Live Cells: {total_live_cells}\")\n"
      ]
    }
  ]
}